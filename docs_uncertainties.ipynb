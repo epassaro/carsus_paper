{
 "cells": [
  {
   "cell_type": "markdown",
   "metadata": {},
   "source": [
    "# Sources of levels and lines: Uncertainties\n",
    "\n",
    "---\n",
    "\n",
    "Currently, Carsus can handle two different sources of energy levels and transition lines: the Robert Kurucz's line list (GFALL) and the Chianti Database. \n",
    "\n",
    "But, what are the effects of choosing a specific source of levels and lines on the TARDIS spectra? To gain some insight, we ran TARDIS simulations of a Blondin model with abundances of `Si`, `S`, `Ca`, `Fe`, `Co`, and `Ni`: \n",
    "\n",
    "- A \"baseline\" simulation using only data from the Kurucz line list.\n",
    "- Individual simulations in [opacity machine](#) mode using data from the Kurucz line list, plus switching one specie from the Chianti Database (see [Appendix I](#appendix)). \n",
    "\n",
    "Then, we added all the differences in luminosity between the baseline model and the Chianti-based spectra (**residuals**) and look for the most affected regions of the spectrum:\n",
    "\n",
    "<img src=\"img/S_20d.png\">\n",
    "\n",
    "<img src=\"img/Fe_20d.png\">\n",
    "\n",
    "Luminosities can be affected up to 50% for some wavelengths, just for using different atomic data sources!."
   ]
  },
  {
   "cell_type": "markdown",
   "metadata": {},
   "source": [
    "<a id='appendix_i'></a>\n",
    "\n",
    "# Appendix I: How to reproduce the atomic files\n",
    "\n",
    "First, download and extract the Chianti Database and set the `XUVTOP` environment variable.\n",
    "\n",
    "```\n",
    "cd $HOME/Downloads\n",
    "wget http://www.chiantidatabase.org/download/CHIANTI_9.0.1_data.tar.gz\n",
    "mkdir chianti\n",
    "tar -xvzf CHIANTI_9.0.1_data.tar.gz -C chianti\n",
    "```"
   ]
  },
  {
   "cell_type": "code",
   "execution_count": null,
   "metadata": {},
   "outputs": [],
   "source": [
    "import os\n",
    "\n",
    "os.environ['XUVTOP'] = os.path.expanduser('~/Downloads/chianti')"
   ]
  },
  {
   "cell_type": "markdown",
   "metadata": {},
   "source": [
    "Then, import the following classes and define the `create_atom_data` function."
   ]
  },
  {
   "cell_type": "code",
   "execution_count": null,
   "metadata": {},
   "outputs": [],
   "source": [
    "from carsus.io.nist import NISTWeightsComp, NISTIonizationEnergies\n",
    "from carsus.io.kurucz import GFALLReader\n",
    "from carsus.io.zeta import KnoxLongZeta\n",
    "from carsus.io.chianti_ import ChiantiReader\n",
    "from carsus.io.output import TARDISAtomData"
   ]
  },
  {
   "cell_type": "code",
   "execution_count": null,
   "metadata": {},
   "outputs": [],
   "source": [
    "def create_atom_data(gfall_ions, chianti_ions, output_dir):\n",
    "\n",
    "    parsers = []\n",
    "    parsers.append(NISTWeightsComp())\n",
    "    parsers.append(NISTIonizationEnergies(gfall_ions))\n",
    "    parsers.append(GFALLReader(gfall_ions))\n",
    "    parsers.append(KnoxLongZeta())\n",
    "\n",
    "    if chianti_ions:\n",
    "        parsers.append(ChiantiReader(chianti_ions, priority=20))\n",
    "        ions_string = chianti_ions.replace(' ', '_').replace(';', '')\n",
    "        output_file = 'kurucz_cd23_latest_chianti_{}.h5'.format(ions_string)\n",
    "\n",
    "    else:\n",
    "        output_file = 'kurucz_cd23_latest.h5'\n",
    "\n",
    "    os.makedirs(output_dir, exist_ok=True)\n",
    "    fname = os.path.join(output_dir, output_file)\n",
    "    \n",
    "    atom_data = TARDISAtomData(*parsers)\n",
    "    atom_data.to_hdf(fname)\n",
    "\n",
    "    return"
   ]
  },
  {
   "cell_type": "markdown",
   "metadata": {},
   "source": [
    "Finally, to create an atomic file with all available species from GFALL except for $\\text{Si II}$ just run:\n",
    "\n",
    "```python\n",
    "create_atom_data('H-Zn', 'Si 1', os.path.expanduser('~/Downloads/tardis-data'))\n",
    "```\n",
    "\n",
    "and repeat for every `Si`, `S`, `Ca`, `Fe` and `Ni` ion [available in the Chianti Database](https://www.chiantidatabase.org/chianti_direct_data.html)."
   ]
  },
  {
   "cell_type": "markdown",
   "metadata": {},
   "source": [
    "# Appendix II: Run TARDIS as an opacity machine\n",
    "\n",
    "<div class=\"alert alert-warning\">\n",
    "\n",
    "**NOTE:** It's necessary to pickle the model using the parameter `protocol=0`, otherwise load will fail.\n",
    "\n",
    "</div>\n",
    "\n",
    "```python\n",
    "import pickle \n",
    "\n",
    "with open('toy06_20d_model.pickle', 'rb') as pm:\n",
    "    baseline_model = pickle.load(pm)\n",
    "```\n",
    "\n",
    "```python\n",
    "from tardis.io.atom_data import AtomData\n",
    "from tardis.io.config_reader import Configuration\n",
    "from tardis.simulation import Simulation\n",
    "\n",
    "tardis_config = Configuration.from_yaml('blondin_model_compare_06.yml')\n",
    "tardis_config['montecarlo']['iterations'] = 1\n",
    "atom_data = AtomData.from_hdf('kurucz_cd23_latest_Si_1.h5')   \n",
    "simulation = Simulation.from_config(tardis_config, atom_data=atom_data, \n",
    "                                        model=baseline_model)\n",
    "simulation.run()\n",
    "```"
   ]
  }
 ],
 "metadata": {
  "kernelspec": {
   "display_name": "carsus",
   "language": "python",
   "name": "carsus"
  },
  "language_info": {
   "codemirror_mode": {
    "name": "ipython",
    "version": 3
   },
   "file_extension": ".py",
   "mimetype": "text/x-python",
   "name": "python",
   "nbconvert_exporter": "python",
   "pygments_lexer": "ipython3",
   "version": "3.6.10"
  }
 },
 "nbformat": 4,
 "nbformat_minor": 4
}
