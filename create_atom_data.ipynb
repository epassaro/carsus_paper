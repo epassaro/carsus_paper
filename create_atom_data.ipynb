{
 "cells": [
  {
   "cell_type": "markdown",
   "metadata": {},
   "source": [
    "# Create atom data\n",
    "---\n",
    "This notebook produces multiple atom data files for TARDIS on a single run.\n",
    "\n",
    "## Notes\n",
    "- Remember to download and extract the Chianti Database:\n",
    "\n",
    "```\n",
    "cd $HOME/Downloads\n",
    "wget http://www.chiantidatabase.org/download/CHIANTI_9.0.1_data.tar.gz\n",
    "mkdir chianti\n",
    "tar -xvzf CHIANTI_9.0.1_data.tar.gz -C chianti\n",
    "```"
   ]
  },
  {
   "cell_type": "code",
   "execution_count": null,
   "metadata": {},
   "outputs": [],
   "source": [
    "import os\n",
    "\n",
    "os.environ['XUVTOP'] = os.path.expanduser('~/Downloads/chianti')"
   ]
  },
  {
   "cell_type": "code",
   "execution_count": null,
   "metadata": {},
   "outputs": [],
   "source": [
    "from carsus.io.nist import NISTWeightsComp, NISTIonizationEnergies\n",
    "from carsus.io.kurucz import GFALLReader\n",
    "from carsus.io.zeta import KnoxLongZeta\n",
    "from carsus.io.chianti_ import ChiantiReader\n",
    "from carsus.io.output import TARDISAtomData\n",
    "from multiprocessing import Pool"
   ]
  },
  {
   "cell_type": "code",
   "execution_count": null,
   "metadata": {},
   "outputs": [],
   "source": [
    "OUTPUT_DIR = os.path.expanduser('~/Downloads/tardis-data')\n",
    "GFALL_IONS = 'H-Zn'\n",
    "CHIANTI_IONS = (None, 'Si 1', 'Si 2', 'S 0', 'S 1', 'S 2', 'Ca 1', 'Fe 1', 'Fe 2', 'Ni 1', 'Si 1-2; S 0-2; Ca 1; Fe 1-2; Ni 1')"
   ]
  },
  {
   "cell_type": "code",
   "execution_count": null,
   "metadata": {},
   "outputs": [],
   "source": [
    "def create_atom_data(gfall_ions, chianti_ions, output_dir):\n",
    "  \n",
    "    parsers = []\n",
    "    parsers.append(NISTWeightsComp())\n",
    "    parsers.append(NISTIonizationEnergies(gfall_ions))\n",
    "    parsers.append(GFALLReader(gfall_ions))\n",
    "    parsers.append(KnoxLongZeta())\n",
    "\n",
    "    if chianti_ions:\n",
    "        parsers.append(ChiantiReader(chianti_ions, priority=20))\n",
    "        ions_string = chianti_ions.replace(' ', '_').replace(';', '')\n",
    "        output_file = 'kurucz_cd23_latest_chianti_{}.h5'.format(ions_string)\n",
    "\n",
    "    else:\n",
    "        output_file = 'kurucz_cd23_latest.h5'\n",
    "\n",
    "    os.makedirs(output_dir, exist_ok=True)\n",
    "    fname = os.path.join(output_dir, output_file)\n",
    "    \n",
    "    atom_data = TARDISAtomData(*parsers)\n",
    "    atom_data.to_hdf(fname)\n",
    "\n",
    "    return"
   ]
  },
  {
   "cell_type": "code",
   "execution_count": null,
   "metadata": {},
   "outputs": [],
   "source": [
    "pool = Pool(6)"
   ]
  },
  {
   "cell_type": "code",
   "execution_count": null,
   "metadata": {},
   "outputs": [],
   "source": [
    "_ = [ pool.apply_async(create_atom_data, args=(GFALL_IONS, ions, OUTPUT_DIR)) for ions in CHIANTI_IONS ]"
   ]
  }
 ],
 "metadata": {
  "kernelspec": {
   "display_name": "carsus",
   "language": "python",
   "name": "carsus"
  },
  "language_info": {
   "codemirror_mode": {
    "name": "ipython",
    "version": 3
   },
   "file_extension": ".py",
   "mimetype": "text/x-python",
   "name": "python",
   "nbconvert_exporter": "python",
   "pygments_lexer": "ipython3",
   "version": "3.6.10"
  }
 },
 "nbformat": 4,
 "nbformat_minor": 4
}
