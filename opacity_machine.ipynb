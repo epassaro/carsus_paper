{
 "cells": [
  {
   "cell_type": "markdown",
   "metadata": {},
   "source": [
    "# Opacity Machine\n",
    "\n",
    "---\n",
    "\n",
    "## Notes\n",
    "\n",
    "- Run `create_atom_data.ipynb` before using this notebook.\n",
    "- Baseline model is generated using [Andreas's script](https://github.com/epassaro/tardis-setups/blob/carsus-paper/rad_trans_models/run_model_toy06.py) with `kurucz_cd23_latest.h5` atom data, pickled with `protocol=0`."
   ]
  },
  {
   "cell_type": "code",
   "execution_count": 1,
   "metadata": {},
   "outputs": [
    {
     "name": "stderr",
     "output_type": "stream",
     "text": [
      "/home/epassaro/miniconda3/envs/tardis/lib/python3.6/importlib/_bootstrap.py:219: QAWarning: pyne.data is not yet QA compliant.\n",
      "  return f(*args, **kwds)\n"
     ]
    }
   ],
   "source": [
    "import os\n",
    "import pickle\n",
    "import pandas as pd\n",
    "import astropy.units as u\n",
    "from tardis.io.atom_data import AtomData\n",
    "from tardis.io.config_reader import Configuration\n",
    "from tardis.simulation import Simulation"
   ]
  },
  {
   "cell_type": "markdown",
   "metadata": {},
   "source": [
    "## Set variables"
   ]
  },
  {
   "cell_type": "code",
   "execution_count": 2,
   "metadata": {},
   "outputs": [],
   "source": [
    "EPOCH = '20d'\n",
    "TARDIS_CONFIG = 'blondin_model_compare_06.yml'\n",
    "ATOM_DATA_DIR = os.path.expanduser('~/Downloads/tardis-data')\n",
    "PICKLE_DIR = '/storage/epassaro/Toy_06/kurucz'\n",
    "OUTPUT_DIR = 'output'\n",
    "NTHREADS = 32"
   ]
  },
  {
   "cell_type": "code",
   "execution_count": 3,
   "metadata": {},
   "outputs": [],
   "source": [
    "SAVEPATH = os.path.join(OUTPUT_DIR, EPOCH)\n",
    "os.makedirs(SAVEPATH, exist_ok=True)"
   ]
  },
  {
   "cell_type": "code",
   "execution_count": 4,
   "metadata": {},
   "outputs": [
    {
     "name": "stdout",
     "output_type": "stream",
     "text": [
      "toy06_t10.0_v17000.0.pickle  toy06_t20.0_v5500.0.pickle\r\n",
      "toy06_t15.0_v10000.0.pickle  toy06_t5.0_v20500.0.pickle\r\n"
     ]
    }
   ],
   "source": [
    "!ls $PICKLE_DIR"
   ]
  },
  {
   "cell_type": "code",
   "execution_count": 5,
   "metadata": {},
   "outputs": [
    {
     "name": "stdout",
     "output_type": "stream",
     "text": [
      "kurucz_cd23_latest_chianti_Ca_1.h5\r\n",
      "kurucz_cd23_latest_chianti_Fe_1.h5\r\n",
      "kurucz_cd23_latest_chianti_Fe_2.h5\r\n",
      "kurucz_cd23_latest_chianti_Ni_1.h5\r\n",
      "kurucz_cd23_latest_chianti_S_0.h5\r\n",
      "kurucz_cd23_latest_chianti_S_1.h5\r\n",
      "kurucz_cd23_latest_chianti_S_2.h5\r\n",
      "kurucz_cd23_latest_chianti_Si_1-2_S_0-2_Ca_1_Fe_1-2_Ni_1.h5\r\n",
      "kurucz_cd23_latest_chianti_Si_1.h5\r\n",
      "kurucz_cd23_latest_chianti_Si_2.h5\r\n",
      "kurucz_cd23_latest.h5\r\n"
     ]
    }
   ],
   "source": [
    "!ls $ATOM_DATA_DIR"
   ]
  },
  {
   "cell_type": "code",
   "execution_count": 6,
   "metadata": {},
   "outputs": [],
   "source": [
    "def save(sim, fname):\n",
    "    \"\"\" Docstring \"\"\"\n",
    "    with pd.HDFStore(fname) as hdf:\n",
    "        hdf.put('wavelength', \n",
    "                pd.Series(sim.runner.spectrum.wavelength.value))\n",
    "        hdf.put('luminosity_density_lambda', \n",
    "                pd.Series(sim.runner.spectrum_integrated.luminosity_density_lambda.value))\n",
    "        hdf.put('t_rad', pd.Series(sim.model.t_rad.value))\n",
    "        hdf.put('w', pd.Series(sim.model.w))\n",
    "        hdf.put('abundance', \n",
    "                sim.model.abundance)\n",
    "    return"
   ]
  },
  {
   "cell_type": "code",
   "execution_count": 7,
   "metadata": {},
   "outputs": [],
   "source": [
    "VELOCITIES = {'5d': 20500.0, '10d': 17000., '15d': 10000., '20d': 5500.}"
   ]
  },
  {
   "cell_type": "markdown",
   "metadata": {},
   "source": [
    "## Baseline model"
   ]
  },
  {
   "cell_type": "code",
   "execution_count": 8,
   "metadata": {},
   "outputs": [],
   "source": [
    "PICKLED_SIM = os.path.join(PICKLE_DIR, \n",
    "                           'toy06_t{}_v{}.pickle'.format(float(EPOCH.rstrip('d')), VELOCITIES[EPOCH]))"
   ]
  },
  {
   "cell_type": "code",
   "execution_count": 9,
   "metadata": {},
   "outputs": [],
   "source": [
    "# Pickle load\n",
    "with open(PICKLED_SIM, 'rb') as pm:\n",
    "    baseline_simulation = pickle.load(pm)\n",
    "\n",
    "baseline_model = baseline_simulation.model\n",
    "\n",
    "# Quick save\n",
    "dump = os.path.join(SAVEPATH, 'kurucz_cd23_latest_{}.h5'.format(EPOCH))\n",
    "save(baseline_simulation, dump)"
   ]
  },
  {
   "cell_type": "markdown",
   "metadata": {},
   "source": [
    "## Run the opacity machine"
   ]
  },
  {
   "cell_type": "code",
   "execution_count": 10,
   "metadata": {
    "scrolled": false
   },
   "outputs": [
    {
     "name": "stdout",
     "output_type": "stream",
     "text": [
      "[\u001b[1mpy.warnings         \u001b[0m][\u001b[1;33mWARNING\u001b[0m]  /home/epassaro/miniconda3/envs/tardis/lib/python3.6/site-packages/IPython/core/async_helpers.py:68: PerformanceWarning: indexing past lexsort depth may impact performance.\n",
      "  coro.send(None)\n",
      " (\u001b[1mwarnings.py\u001b[0m:99)\n",
      "[\u001b[1mtardis.io.atom_data.base\u001b[0m][\u001b[1;37mINFO\u001b[0m   ]  Read Atom Data with UUID=5f16aba8c2c811eabf65f8f21e712851 and MD5=b07453657e551a17fda5adc13c349341. (\u001b[1mbase.py\u001b[0m:187)\n",
      "[\u001b[1mtardis.io.atom_data.base\u001b[0m][\u001b[1;37mINFO\u001b[0m   ]  Non provided atomic data: collision_data, collision_data_temperatures, synpp_refs, photoionization_data (\u001b[1mbase.py\u001b[0m:193)\n",
      "[\u001b[1mpy.warnings         \u001b[0m][\u001b[1;33mWARNING\u001b[0m]  /home/epassaro/miniconda3/envs/tardis/lib/python3.6/site-packages/tardis_sn-3.0.dev3477-py3.6-linux-x86_64.egg/tardis/plasma/properties/atomic.py:229: FutureWarning: .labels was deprecated in version 0.24.0. Use .codes instead.\n",
      "  zeta_data[\"atomic_number\"] = zeta_data.index.labels[0] + 1\n",
      " (\u001b[1mwarnings.py\u001b[0m:99)\n",
      "[\u001b[1mpy.warnings         \u001b[0m][\u001b[1;33mWARNING\u001b[0m]  /home/epassaro/miniconda3/envs/tardis/lib/python3.6/site-packages/tardis_sn-3.0.dev3477-py3.6-linux-x86_64.egg/tardis/plasma/properties/atomic.py:230: FutureWarning: .labels was deprecated in version 0.24.0. Use .codes instead.\n",
      "  zeta_data[\"ion_number\"] = zeta_data.index.labels[1] + 1\n",
      " (\u001b[1mwarnings.py\u001b[0m:99)\n",
      "[\u001b[1mtardis.plasma.properties.atomic\u001b[0m][\u001b[1;33mWARNING\u001b[0m]  Zeta_data missing - replaced with 1s. Missing ions: [(14, 15), (16, 17), (20, 21), (26, 27), (27, 28), (28, 29)] (\u001b[1matomic.py\u001b[0m:251)\n",
      "[\u001b[1mpy.warnings         \u001b[0m][\u001b[1;33mWARNING\u001b[0m]  /home/epassaro/miniconda3/envs/tardis/lib/python3.6/site-packages/tardis_sn-3.0.dev3477-py3.6-linux-x86_64.egg/tardis/plasma/properties/atomic.py:229: FutureWarning: .labels was deprecated in version 0.24.0. Use .codes instead.\n",
      "  zeta_data[\"atomic_number\"] = zeta_data.index.labels[0] + 1\n",
      " (\u001b[1mwarnings.py\u001b[0m:99)\n",
      "[\u001b[1mpy.warnings         \u001b[0m][\u001b[1;33mWARNING\u001b[0m]  /home/epassaro/miniconda3/envs/tardis/lib/python3.6/site-packages/tardis_sn-3.0.dev3477-py3.6-linux-x86_64.egg/tardis/plasma/properties/atomic.py:230: FutureWarning: .labels was deprecated in version 0.24.0. Use .codes instead.\n",
      "  zeta_data[\"ion_number\"] = zeta_data.index.labels[1] + 1\n",
      " (\u001b[1mwarnings.py\u001b[0m:99)\n",
      "[\u001b[1mtardis.plasma.properties.atomic\u001b[0m][\u001b[1;33mWARNING\u001b[0m]  Zeta_data missing - replaced with 1s. Missing ions: [(14, 15), (16, 17), (20, 21), (26, 27), (27, 28), (28, 29)] (\u001b[1matomic.py\u001b[0m:251)\n",
      "[\u001b[1mtardis.simulation.base\u001b[0m][\u001b[1;37mINFO\u001b[0m   ]  Starting iteration 1/1 (\u001b[1mbase.py\u001b[0m:325)\n",
      "[\u001b[1mtardis.simulation.base\u001b[0m][\u001b[1;37mINFO\u001b[0m   ]  Luminosity emitted = 1.00574e+43 erg / s Luminosity absorbed = 2.38067e+43 erg / s Luminosity requested = 1.05928e+43 erg / s (\u001b[1mbase.py\u001b[0m:447)\n",
      "[\u001b[1mtardis.simulation.base\u001b[0m][\u001b[1;37mINFO\u001b[0m   ]  Simulation finished in 1 iterations and took 16.46 s (\u001b[1mbase.py\u001b[0m:380)\n",
      "[\u001b[1mpy.warnings         \u001b[0m][\u001b[1;33mWARNING\u001b[0m]  /home/epassaro/miniconda3/envs/tardis/lib/python3.6/site-packages/IPython/core/async_helpers.py:68: PerformanceWarning: indexing past lexsort depth may impact performance.\n",
      "  coro.send(None)\n",
      " (\u001b[1mwarnings.py\u001b[0m:99)\n",
      "[\u001b[1mtardis.io.atom_data.base\u001b[0m][\u001b[1;37mINFO\u001b[0m   ]  Read Atom Data with UUID=125af804c2c911ea98adf8f21e712851 and MD5=dce787b079d51eee194f0c9eef0515e5. (\u001b[1mbase.py\u001b[0m:187)\n",
      "[\u001b[1mtardis.io.atom_data.base\u001b[0m][\u001b[1;37mINFO\u001b[0m   ]  Non provided atomic data: collision_data, collision_data_temperatures, synpp_refs, photoionization_data (\u001b[1mbase.py\u001b[0m:193)\n",
      "[\u001b[1mpy.warnings         \u001b[0m][\u001b[1;33mWARNING\u001b[0m]  /home/epassaro/miniconda3/envs/tardis/lib/python3.6/site-packages/tardis_sn-3.0.dev3477-py3.6-linux-x86_64.egg/tardis/plasma/properties/atomic.py:229: FutureWarning: .labels was deprecated in version 0.24.0. Use .codes instead.\n",
      "  zeta_data[\"atomic_number\"] = zeta_data.index.labels[0] + 1\n",
      " (\u001b[1mwarnings.py\u001b[0m:99)\n",
      "[\u001b[1mpy.warnings         \u001b[0m][\u001b[1;33mWARNING\u001b[0m]  /home/epassaro/miniconda3/envs/tardis/lib/python3.6/site-packages/tardis_sn-3.0.dev3477-py3.6-linux-x86_64.egg/tardis/plasma/properties/atomic.py:230: FutureWarning: .labels was deprecated in version 0.24.0. Use .codes instead.\n",
      "  zeta_data[\"ion_number\"] = zeta_data.index.labels[1] + 1\n",
      " (\u001b[1mwarnings.py\u001b[0m:99)\n",
      "[\u001b[1mtardis.plasma.properties.atomic\u001b[0m][\u001b[1;33mWARNING\u001b[0m]  Zeta_data missing - replaced with 1s. Missing ions: [(14, 15), (16, 17), (20, 21), (26, 27), (27, 28), (28, 29)] (\u001b[1matomic.py\u001b[0m:251)\n",
      "[\u001b[1mpy.warnings         \u001b[0m][\u001b[1;33mWARNING\u001b[0m]  /home/epassaro/miniconda3/envs/tardis/lib/python3.6/site-packages/tardis_sn-3.0.dev3477-py3.6-linux-x86_64.egg/tardis/plasma/properties/atomic.py:229: FutureWarning: .labels was deprecated in version 0.24.0. Use .codes instead.\n",
      "  zeta_data[\"atomic_number\"] = zeta_data.index.labels[0] + 1\n",
      " (\u001b[1mwarnings.py\u001b[0m:99)\n",
      "[\u001b[1mpy.warnings         \u001b[0m][\u001b[1;33mWARNING\u001b[0m]  /home/epassaro/miniconda3/envs/tardis/lib/python3.6/site-packages/tardis_sn-3.0.dev3477-py3.6-linux-x86_64.egg/tardis/plasma/properties/atomic.py:230: FutureWarning: .labels was deprecated in version 0.24.0. Use .codes instead.\n",
      "  zeta_data[\"ion_number\"] = zeta_data.index.labels[1] + 1\n",
      " (\u001b[1mwarnings.py\u001b[0m:99)\n",
      "[\u001b[1mtardis.plasma.properties.atomic\u001b[0m][\u001b[1;33mWARNING\u001b[0m]  Zeta_data missing - replaced with 1s. Missing ions: [(14, 15), (16, 17), (20, 21), (26, 27), (27, 28), (28, 29)] (\u001b[1matomic.py\u001b[0m:251)\n",
      "[\u001b[1mtardis.simulation.base\u001b[0m][\u001b[1;37mINFO\u001b[0m   ]  Starting iteration 1/1 (\u001b[1mbase.py\u001b[0m:325)\n",
      "[\u001b[1mtardis.simulation.base\u001b[0m][\u001b[1;37mINFO\u001b[0m   ]  Luminosity emitted = 9.69607e+42 erg / s Luminosity absorbed = 2.41394e+43 erg / s Luminosity requested = 1.05928e+43 erg / s (\u001b[1mbase.py\u001b[0m:447)\n",
      "[\u001b[1mtardis.simulation.base\u001b[0m][\u001b[1;37mINFO\u001b[0m   ]  Simulation finished in 1 iterations and took 12.05 s (\u001b[1mbase.py\u001b[0m:380)\n",
      "[\u001b[1mtardis.io.atom_data.base\u001b[0m][\u001b[1;37mINFO\u001b[0m   ]  Read Atom Data with UUID=5f47e790c2c811eabfa7f8f21e712851 and MD5=5b346bc44bb49793f0adc5f8ce44973e. (\u001b[1mbase.py\u001b[0m:187)\n",
      "[\u001b[1mtardis.io.atom_data.base\u001b[0m][\u001b[1;37mINFO\u001b[0m   ]  Non provided atomic data: collision_data, collision_data_temperatures, synpp_refs, photoionization_data (\u001b[1mbase.py\u001b[0m:193)\n",
      "[\u001b[1mpy.warnings         \u001b[0m][\u001b[1;33mWARNING\u001b[0m]  /home/epassaro/miniconda3/envs/tardis/lib/python3.6/site-packages/tardis_sn-3.0.dev3477-py3.6-linux-x86_64.egg/tardis/plasma/properties/atomic.py:229: FutureWarning: .labels was deprecated in version 0.24.0. Use .codes instead.\n",
      "  zeta_data[\"atomic_number\"] = zeta_data.index.labels[0] + 1\n",
      " (\u001b[1mwarnings.py\u001b[0m:99)\n",
      "[\u001b[1mpy.warnings         \u001b[0m][\u001b[1;33mWARNING\u001b[0m]  /home/epassaro/miniconda3/envs/tardis/lib/python3.6/site-packages/tardis_sn-3.0.dev3477-py3.6-linux-x86_64.egg/tardis/plasma/properties/atomic.py:230: FutureWarning: .labels was deprecated in version 0.24.0. Use .codes instead.\n",
      "  zeta_data[\"ion_number\"] = zeta_data.index.labels[1] + 1\n",
      " (\u001b[1mwarnings.py\u001b[0m:99)\n",
      "[\u001b[1mtardis.plasma.properties.atomic\u001b[0m][\u001b[1;33mWARNING\u001b[0m]  Zeta_data missing - replaced with 1s. Missing ions: [(14, 15), (16, 17), (20, 21), (26, 27), (27, 28), (28, 29)] (\u001b[1matomic.py\u001b[0m:251)\n",
      "[\u001b[1mpy.warnings         \u001b[0m][\u001b[1;33mWARNING\u001b[0m]  /home/epassaro/miniconda3/envs/tardis/lib/python3.6/site-packages/tardis_sn-3.0.dev3477-py3.6-linux-x86_64.egg/tardis/plasma/properties/atomic.py:229: FutureWarning: .labels was deprecated in version 0.24.0. Use .codes instead.\n",
      "  zeta_data[\"atomic_number\"] = zeta_data.index.labels[0] + 1\n",
      " (\u001b[1mwarnings.py\u001b[0m:99)\n",
      "[\u001b[1mpy.warnings         \u001b[0m][\u001b[1;33mWARNING\u001b[0m]  /home/epassaro/miniconda3/envs/tardis/lib/python3.6/site-packages/tardis_sn-3.0.dev3477-py3.6-linux-x86_64.egg/tardis/plasma/properties/atomic.py:230: FutureWarning: .labels was deprecated in version 0.24.0. Use .codes instead.\n",
      "  zeta_data[\"ion_number\"] = zeta_data.index.labels[1] + 1\n",
      " (\u001b[1mwarnings.py\u001b[0m:99)\n",
      "[\u001b[1mtardis.plasma.properties.atomic\u001b[0m][\u001b[1;33mWARNING\u001b[0m]  Zeta_data missing - replaced with 1s. Missing ions: [(14, 15), (16, 17), (20, 21), (26, 27), (27, 28), (28, 29)] (\u001b[1matomic.py\u001b[0m:251)\n",
      "[\u001b[1mtardis.simulation.base\u001b[0m][\u001b[1;37mINFO\u001b[0m   ]  Starting iteration 1/1 (\u001b[1mbase.py\u001b[0m:325)\n",
      "[\u001b[1mtardis.simulation.base\u001b[0m][\u001b[1;37mINFO\u001b[0m   ]  Luminosity emitted = 1.00459e+43 erg / s Luminosity absorbed = 2.38182e+43 erg / s Luminosity requested = 1.05928e+43 erg / s (\u001b[1mbase.py\u001b[0m:447)\n"
     ]
    },
    {
     "name": "stdout",
     "output_type": "stream",
     "text": [
      "[\u001b[1mtardis.simulation.base\u001b[0m][\u001b[1;37mINFO\u001b[0m   ]  Simulation finished in 1 iterations and took 16.06 s (\u001b[1mbase.py\u001b[0m:380)\n",
      "[\u001b[1mtardis.io.atom_data.base\u001b[0m][\u001b[1;37mINFO\u001b[0m   ]  Read Atom Data with UUID=20eb92c0c2c911eaa9f4f8f21e712851 and MD5=27eafd1c7d87dfe6569bf263f9039dcc. (\u001b[1mbase.py\u001b[0m:187)\n",
      "[\u001b[1mtardis.io.atom_data.base\u001b[0m][\u001b[1;37mINFO\u001b[0m   ]  Non provided atomic data: collision_data, collision_data_temperatures, synpp_refs, photoionization_data (\u001b[1mbase.py\u001b[0m:193)\n",
      "[\u001b[1mpy.warnings         \u001b[0m][\u001b[1;33mWARNING\u001b[0m]  /home/epassaro/miniconda3/envs/tardis/lib/python3.6/site-packages/tardis_sn-3.0.dev3477-py3.6-linux-x86_64.egg/tardis/plasma/properties/atomic.py:229: FutureWarning: .labels was deprecated in version 0.24.0. Use .codes instead.\n",
      "  zeta_data[\"atomic_number\"] = zeta_data.index.labels[0] + 1\n",
      " (\u001b[1mwarnings.py\u001b[0m:99)\n",
      "[\u001b[1mpy.warnings         \u001b[0m][\u001b[1;33mWARNING\u001b[0m]  /home/epassaro/miniconda3/envs/tardis/lib/python3.6/site-packages/tardis_sn-3.0.dev3477-py3.6-linux-x86_64.egg/tardis/plasma/properties/atomic.py:230: FutureWarning: .labels was deprecated in version 0.24.0. Use .codes instead.\n",
      "  zeta_data[\"ion_number\"] = zeta_data.index.labels[1] + 1\n",
      " (\u001b[1mwarnings.py\u001b[0m:99)\n",
      "[\u001b[1mtardis.plasma.properties.atomic\u001b[0m][\u001b[1;33mWARNING\u001b[0m]  Zeta_data missing - replaced with 1s. Missing ions: [(14, 15), (16, 17), (20, 21), (26, 27), (27, 28), (28, 29)] (\u001b[1matomic.py\u001b[0m:251)\n",
      "[\u001b[1mpy.warnings         \u001b[0m][\u001b[1;33mWARNING\u001b[0m]  /home/epassaro/miniconda3/envs/tardis/lib/python3.6/site-packages/tardis_sn-3.0.dev3477-py3.6-linux-x86_64.egg/tardis/plasma/properties/atomic.py:229: FutureWarning: .labels was deprecated in version 0.24.0. Use .codes instead.\n",
      "  zeta_data[\"atomic_number\"] = zeta_data.index.labels[0] + 1\n",
      " (\u001b[1mwarnings.py\u001b[0m:99)\n",
      "[\u001b[1mpy.warnings         \u001b[0m][\u001b[1;33mWARNING\u001b[0m]  /home/epassaro/miniconda3/envs/tardis/lib/python3.6/site-packages/tardis_sn-3.0.dev3477-py3.6-linux-x86_64.egg/tardis/plasma/properties/atomic.py:230: FutureWarning: .labels was deprecated in version 0.24.0. Use .codes instead.\n",
      "  zeta_data[\"ion_number\"] = zeta_data.index.labels[1] + 1\n",
      " (\u001b[1mwarnings.py\u001b[0m:99)\n",
      "[\u001b[1mtardis.plasma.properties.atomic\u001b[0m][\u001b[1;33mWARNING\u001b[0m]  Zeta_data missing - replaced with 1s. Missing ions: [(14, 15), (16, 17), (20, 21), (26, 27), (27, 28), (28, 29)] (\u001b[1matomic.py\u001b[0m:251)\n",
      "[\u001b[1mtardis.simulation.base\u001b[0m][\u001b[1;37mINFO\u001b[0m   ]  Starting iteration 1/1 (\u001b[1mbase.py\u001b[0m:325)\n",
      "[\u001b[1mtardis.simulation.base\u001b[0m][\u001b[1;37mINFO\u001b[0m   ]  Luminosity emitted = 1.00820e+43 erg / s Luminosity absorbed = 2.37953e+43 erg / s Luminosity requested = 1.05928e+43 erg / s (\u001b[1mbase.py\u001b[0m:447)\n",
      "[\u001b[1mtardis.simulation.base\u001b[0m][\u001b[1;37mINFO\u001b[0m   ]  Simulation finished in 1 iterations and took 16.09 s (\u001b[1mbase.py\u001b[0m:380)\n",
      "[\u001b[1mpy.warnings         \u001b[0m][\u001b[1;33mWARNING\u001b[0m]  /home/epassaro/miniconda3/envs/tardis/lib/python3.6/site-packages/IPython/core/async_helpers.py:68: PerformanceWarning: indexing past lexsort depth may impact performance.\n",
      "  coro.send(None)\n",
      " (\u001b[1mwarnings.py\u001b[0m:99)\n",
      "[\u001b[1mtardis.io.atom_data.base\u001b[0m][\u001b[1;37mINFO\u001b[0m   ]  Read Atom Data with UUID=267d7d0cc2c911ea972af8f21e712851 and MD5=37a64398bed4b2cb930cfaa0ba7faf9c. (\u001b[1mbase.py\u001b[0m:187)\n",
      "[\u001b[1mtardis.io.atom_data.base\u001b[0m][\u001b[1;37mINFO\u001b[0m   ]  Non provided atomic data: collision_data, collision_data_temperatures, synpp_refs, photoionization_data (\u001b[1mbase.py\u001b[0m:193)\n",
      "[\u001b[1mpy.warnings         \u001b[0m][\u001b[1;33mWARNING\u001b[0m]  /home/epassaro/miniconda3/envs/tardis/lib/python3.6/site-packages/tardis_sn-3.0.dev3477-py3.6-linux-x86_64.egg/tardis/plasma/properties/atomic.py:229: FutureWarning: .labels was deprecated in version 0.24.0. Use .codes instead.\n",
      "  zeta_data[\"atomic_number\"] = zeta_data.index.labels[0] + 1\n",
      " (\u001b[1mwarnings.py\u001b[0m:99)\n",
      "[\u001b[1mpy.warnings         \u001b[0m][\u001b[1;33mWARNING\u001b[0m]  /home/epassaro/miniconda3/envs/tardis/lib/python3.6/site-packages/tardis_sn-3.0.dev3477-py3.6-linux-x86_64.egg/tardis/plasma/properties/atomic.py:230: FutureWarning: .labels was deprecated in version 0.24.0. Use .codes instead.\n",
      "  zeta_data[\"ion_number\"] = zeta_data.index.labels[1] + 1\n",
      " (\u001b[1mwarnings.py\u001b[0m:99)\n",
      "[\u001b[1mtardis.plasma.properties.atomic\u001b[0m][\u001b[1;33mWARNING\u001b[0m]  Zeta_data missing - replaced with 1s. Missing ions: [(14, 15), (16, 17), (20, 21), (26, 27), (27, 28), (28, 29)] (\u001b[1matomic.py\u001b[0m:251)\n",
      "[\u001b[1mpy.warnings         \u001b[0m][\u001b[1;33mWARNING\u001b[0m]  /home/epassaro/miniconda3/envs/tardis/lib/python3.6/site-packages/tardis_sn-3.0.dev3477-py3.6-linux-x86_64.egg/tardis/plasma/properties/atomic.py:229: FutureWarning: .labels was deprecated in version 0.24.0. Use .codes instead.\n",
      "  zeta_data[\"atomic_number\"] = zeta_data.index.labels[0] + 1\n",
      " (\u001b[1mwarnings.py\u001b[0m:99)\n",
      "[\u001b[1mpy.warnings         \u001b[0m][\u001b[1;33mWARNING\u001b[0m]  /home/epassaro/miniconda3/envs/tardis/lib/python3.6/site-packages/tardis_sn-3.0.dev3477-py3.6-linux-x86_64.egg/tardis/plasma/properties/atomic.py:230: FutureWarning: .labels was deprecated in version 0.24.0. Use .codes instead.\n",
      "  zeta_data[\"ion_number\"] = zeta_data.index.labels[1] + 1\n",
      " (\u001b[1mwarnings.py\u001b[0m:99)\n",
      "[\u001b[1mtardis.plasma.properties.atomic\u001b[0m][\u001b[1;33mWARNING\u001b[0m]  Zeta_data missing - replaced with 1s. Missing ions: [(14, 15), (16, 17), (20, 21), (26, 27), (27, 28), (28, 29)] (\u001b[1matomic.py\u001b[0m:251)\n",
      "[\u001b[1mtardis.simulation.base\u001b[0m][\u001b[1;37mINFO\u001b[0m   ]  Starting iteration 1/1 (\u001b[1mbase.py\u001b[0m:325)\n",
      "[\u001b[1mtardis.simulation.base\u001b[0m][\u001b[1;37mINFO\u001b[0m   ]  Luminosity emitted = 1.00573e+43 erg / s Luminosity absorbed = 2.38123e+43 erg / s Luminosity requested = 1.05928e+43 erg / s (\u001b[1mbase.py\u001b[0m:447)\n",
      "[\u001b[1mtardis.simulation.base\u001b[0m][\u001b[1;37mINFO\u001b[0m   ]  Simulation finished in 1 iterations and took 16.16 s (\u001b[1mbase.py\u001b[0m:380)\n",
      "[\u001b[1mpy.warnings         \u001b[0m][\u001b[1;33mWARNING\u001b[0m]  /home/epassaro/miniconda3/envs/tardis/lib/python3.6/site-packages/IPython/core/async_helpers.py:68: PerformanceWarning: indexing past lexsort depth may impact performance.\n",
      "  coro.send(None)\n",
      " (\u001b[1mwarnings.py\u001b[0m:99)\n",
      "[\u001b[1mtardis.io.atom_data.base\u001b[0m][\u001b[1;37mINFO\u001b[0m   ]  Read Atom Data with UUID=658480fac2c811ea92d8f8f21e712851 and MD5=fbed2d555f2707fd1c98ce0402b476f8. (\u001b[1mbase.py\u001b[0m:187)\n",
      "[\u001b[1mtardis.io.atom_data.base\u001b[0m][\u001b[1;37mINFO\u001b[0m   ]  Non provided atomic data: collision_data, collision_data_temperatures, synpp_refs, photoionization_data (\u001b[1mbase.py\u001b[0m:193)\n",
      "[\u001b[1mpy.warnings         \u001b[0m][\u001b[1;33mWARNING\u001b[0m]  /home/epassaro/miniconda3/envs/tardis/lib/python3.6/site-packages/tardis_sn-3.0.dev3477-py3.6-linux-x86_64.egg/tardis/plasma/properties/atomic.py:229: FutureWarning: .labels was deprecated in version 0.24.0. Use .codes instead.\n",
      "  zeta_data[\"atomic_number\"] = zeta_data.index.labels[0] + 1\n",
      " (\u001b[1mwarnings.py\u001b[0m:99)\n",
      "[\u001b[1mpy.warnings         \u001b[0m][\u001b[1;33mWARNING\u001b[0m]  /home/epassaro/miniconda3/envs/tardis/lib/python3.6/site-packages/tardis_sn-3.0.dev3477-py3.6-linux-x86_64.egg/tardis/plasma/properties/atomic.py:230: FutureWarning: .labels was deprecated in version 0.24.0. Use .codes instead.\n",
      "  zeta_data[\"ion_number\"] = zeta_data.index.labels[1] + 1\n",
      " (\u001b[1mwarnings.py\u001b[0m:99)\n",
      "[\u001b[1mtardis.plasma.properties.atomic\u001b[0m][\u001b[1;33mWARNING\u001b[0m]  Zeta_data missing - replaced with 1s. Missing ions: [(14, 15), (16, 17), (20, 21), (26, 27), (27, 28), (28, 29)] (\u001b[1matomic.py\u001b[0m:251)\n",
      "[\u001b[1mpy.warnings         \u001b[0m][\u001b[1;33mWARNING\u001b[0m]  /home/epassaro/miniconda3/envs/tardis/lib/python3.6/site-packages/tardis_sn-3.0.dev3477-py3.6-linux-x86_64.egg/tardis/plasma/properties/atomic.py:229: FutureWarning: .labels was deprecated in version 0.24.0. Use .codes instead.\n",
      "  zeta_data[\"atomic_number\"] = zeta_data.index.labels[0] + 1\n",
      " (\u001b[1mwarnings.py\u001b[0m:99)\n",
      "[\u001b[1mpy.warnings         \u001b[0m][\u001b[1;33mWARNING\u001b[0m]  /home/epassaro/miniconda3/envs/tardis/lib/python3.6/site-packages/tardis_sn-3.0.dev3477-py3.6-linux-x86_64.egg/tardis/plasma/properties/atomic.py:230: FutureWarning: .labels was deprecated in version 0.24.0. Use .codes instead.\n",
      "  zeta_data[\"ion_number\"] = zeta_data.index.labels[1] + 1\n",
      " (\u001b[1mwarnings.py\u001b[0m:99)\n",
      "[\u001b[1mtardis.plasma.properties.atomic\u001b[0m][\u001b[1;33mWARNING\u001b[0m]  Zeta_data missing - replaced with 1s. Missing ions: [(14, 15), (16, 17), (20, 21), (26, 27), (27, 28), (28, 29)] (\u001b[1matomic.py\u001b[0m:251)\n",
      "[\u001b[1mtardis.simulation.base\u001b[0m][\u001b[1;37mINFO\u001b[0m   ]  Starting iteration 1/1 (\u001b[1mbase.py\u001b[0m:325)\n"
     ]
    },
    {
     "name": "stdout",
     "output_type": "stream",
     "text": [
      "[\u001b[1mtardis.simulation.base\u001b[0m][\u001b[1;37mINFO\u001b[0m   ]  Luminosity emitted = 1.00155e+43 erg / s Luminosity absorbed = 2.38486e+43 erg / s Luminosity requested = 1.05928e+43 erg / s (\u001b[1mbase.py\u001b[0m:447)\n",
      "[\u001b[1mtardis.simulation.base\u001b[0m][\u001b[1;37mINFO\u001b[0m   ]  Simulation finished in 1 iterations and took 16.05 s (\u001b[1mbase.py\u001b[0m:380)\n",
      "[\u001b[1mpy.warnings         \u001b[0m][\u001b[1;33mWARNING\u001b[0m]  /home/epassaro/miniconda3/envs/tardis/lib/python3.6/site-packages/IPython/core/async_helpers.py:68: PerformanceWarning: indexing past lexsort depth may impact performance.\n",
      "  coro.send(None)\n",
      " (\u001b[1mwarnings.py\u001b[0m:99)\n",
      "[\u001b[1mtardis.io.atom_data.base\u001b[0m][\u001b[1;37mINFO\u001b[0m   ]  Read Atom Data with UUID=24e4e778c2c911eabfa7f8f21e712851 and MD5=86b1e89e8e19074f1a44e176b87673d8. (\u001b[1mbase.py\u001b[0m:187)\n",
      "[\u001b[1mtardis.io.atom_data.base\u001b[0m][\u001b[1;37mINFO\u001b[0m   ]  Non provided atomic data: collision_data, collision_data_temperatures, synpp_refs, photoionization_data (\u001b[1mbase.py\u001b[0m:193)\n",
      "[\u001b[1mpy.warnings         \u001b[0m][\u001b[1;33mWARNING\u001b[0m]  /home/epassaro/miniconda3/envs/tardis/lib/python3.6/site-packages/tardis_sn-3.0.dev3477-py3.6-linux-x86_64.egg/tardis/plasma/properties/atomic.py:229: FutureWarning: .labels was deprecated in version 0.24.0. Use .codes instead.\n",
      "  zeta_data[\"atomic_number\"] = zeta_data.index.labels[0] + 1\n",
      " (\u001b[1mwarnings.py\u001b[0m:99)\n",
      "[\u001b[1mpy.warnings         \u001b[0m][\u001b[1;33mWARNING\u001b[0m]  /home/epassaro/miniconda3/envs/tardis/lib/python3.6/site-packages/tardis_sn-3.0.dev3477-py3.6-linux-x86_64.egg/tardis/plasma/properties/atomic.py:230: FutureWarning: .labels was deprecated in version 0.24.0. Use .codes instead.\n",
      "  zeta_data[\"ion_number\"] = zeta_data.index.labels[1] + 1\n",
      " (\u001b[1mwarnings.py\u001b[0m:99)\n",
      "[\u001b[1mtardis.plasma.properties.atomic\u001b[0m][\u001b[1;33mWARNING\u001b[0m]  Zeta_data missing - replaced with 1s. Missing ions: [(14, 15), (16, 17), (20, 21), (26, 27), (27, 28), (28, 29)] (\u001b[1matomic.py\u001b[0m:251)\n",
      "[\u001b[1mpy.warnings         \u001b[0m][\u001b[1;33mWARNING\u001b[0m]  /home/epassaro/miniconda3/envs/tardis/lib/python3.6/site-packages/tardis_sn-3.0.dev3477-py3.6-linux-x86_64.egg/tardis/plasma/properties/atomic.py:229: FutureWarning: .labels was deprecated in version 0.24.0. Use .codes instead.\n",
      "  zeta_data[\"atomic_number\"] = zeta_data.index.labels[0] + 1\n",
      " (\u001b[1mwarnings.py\u001b[0m:99)\n",
      "[\u001b[1mpy.warnings         \u001b[0m][\u001b[1;33mWARNING\u001b[0m]  /home/epassaro/miniconda3/envs/tardis/lib/python3.6/site-packages/tardis_sn-3.0.dev3477-py3.6-linux-x86_64.egg/tardis/plasma/properties/atomic.py:230: FutureWarning: .labels was deprecated in version 0.24.0. Use .codes instead.\n",
      "  zeta_data[\"ion_number\"] = zeta_data.index.labels[1] + 1\n",
      " (\u001b[1mwarnings.py\u001b[0m:99)\n",
      "[\u001b[1mtardis.plasma.properties.atomic\u001b[0m][\u001b[1;33mWARNING\u001b[0m]  Zeta_data missing - replaced with 1s. Missing ions: [(14, 15), (16, 17), (20, 21), (26, 27), (27, 28), (28, 29)] (\u001b[1matomic.py\u001b[0m:251)\n",
      "[\u001b[1mtardis.simulation.base\u001b[0m][\u001b[1;37mINFO\u001b[0m   ]  Starting iteration 1/1 (\u001b[1mbase.py\u001b[0m:325)\n",
      "[\u001b[1mtardis.simulation.base\u001b[0m][\u001b[1;37mINFO\u001b[0m   ]  Luminosity emitted = 9.58998e+42 erg / s Luminosity absorbed = 2.42168e+43 erg / s Luminosity requested = 1.05928e+43 erg / s (\u001b[1mbase.py\u001b[0m:447)\n",
      "[\u001b[1mtardis.simulation.base\u001b[0m][\u001b[1;37mINFO\u001b[0m   ]  Simulation finished in 1 iterations and took 16.07 s (\u001b[1mbase.py\u001b[0m:380)\n",
      "[\u001b[1mpy.warnings         \u001b[0m][\u001b[1;33mWARNING\u001b[0m]  /home/epassaro/miniconda3/envs/tardis/lib/python3.6/site-packages/IPython/core/async_helpers.py:68: PerformanceWarning: indexing past lexsort depth may impact performance.\n",
      "  coro.send(None)\n",
      " (\u001b[1mwarnings.py\u001b[0m:99)\n",
      "[\u001b[1mtardis.io.atom_data.base\u001b[0m][\u001b[1;37mINFO\u001b[0m   ]  Read Atom Data with UUID=5ef4a850c2c811ea972af8f21e712851 and MD5=1fdac298b94abe58b259edd9bc3ac3f8. (\u001b[1mbase.py\u001b[0m:187)\n",
      "[\u001b[1mtardis.io.atom_data.base\u001b[0m][\u001b[1;37mINFO\u001b[0m   ]  Non provided atomic data: collision_data, collision_data_temperatures, synpp_refs, photoionization_data (\u001b[1mbase.py\u001b[0m:193)\n",
      "[\u001b[1mpy.warnings         \u001b[0m][\u001b[1;33mWARNING\u001b[0m]  /home/epassaro/miniconda3/envs/tardis/lib/python3.6/site-packages/tardis_sn-3.0.dev3477-py3.6-linux-x86_64.egg/tardis/plasma/properties/atomic.py:229: FutureWarning: .labels was deprecated in version 0.24.0. Use .codes instead.\n",
      "  zeta_data[\"atomic_number\"] = zeta_data.index.labels[0] + 1\n",
      " (\u001b[1mwarnings.py\u001b[0m:99)\n",
      "[\u001b[1mpy.warnings         \u001b[0m][\u001b[1;33mWARNING\u001b[0m]  /home/epassaro/miniconda3/envs/tardis/lib/python3.6/site-packages/tardis_sn-3.0.dev3477-py3.6-linux-x86_64.egg/tardis/plasma/properties/atomic.py:230: FutureWarning: .labels was deprecated in version 0.24.0. Use .codes instead.\n",
      "  zeta_data[\"ion_number\"] = zeta_data.index.labels[1] + 1\n",
      " (\u001b[1mwarnings.py\u001b[0m:99)\n",
      "[\u001b[1mtardis.plasma.properties.atomic\u001b[0m][\u001b[1;33mWARNING\u001b[0m]  Zeta_data missing - replaced with 1s. Missing ions: [(14, 15), (16, 17), (20, 21), (26, 27), (27, 28), (28, 29)] (\u001b[1matomic.py\u001b[0m:251)\n",
      "[\u001b[1mpy.warnings         \u001b[0m][\u001b[1;33mWARNING\u001b[0m]  /home/epassaro/miniconda3/envs/tardis/lib/python3.6/site-packages/tardis_sn-3.0.dev3477-py3.6-linux-x86_64.egg/tardis/plasma/properties/atomic.py:229: FutureWarning: .labels was deprecated in version 0.24.0. Use .codes instead.\n",
      "  zeta_data[\"atomic_number\"] = zeta_data.index.labels[0] + 1\n",
      " (\u001b[1mwarnings.py\u001b[0m:99)\n",
      "[\u001b[1mpy.warnings         \u001b[0m][\u001b[1;33mWARNING\u001b[0m]  /home/epassaro/miniconda3/envs/tardis/lib/python3.6/site-packages/tardis_sn-3.0.dev3477-py3.6-linux-x86_64.egg/tardis/plasma/properties/atomic.py:230: FutureWarning: .labels was deprecated in version 0.24.0. Use .codes instead.\n",
      "  zeta_data[\"ion_number\"] = zeta_data.index.labels[1] + 1\n",
      " (\u001b[1mwarnings.py\u001b[0m:99)\n",
      "[\u001b[1mtardis.plasma.properties.atomic\u001b[0m][\u001b[1;33mWARNING\u001b[0m]  Zeta_data missing - replaced with 1s. Missing ions: [(14, 15), (16, 17), (20, 21), (26, 27), (27, 28), (28, 29)] (\u001b[1matomic.py\u001b[0m:251)\n",
      "[\u001b[1mtardis.simulation.base\u001b[0m][\u001b[1;37mINFO\u001b[0m   ]  Starting iteration 1/1 (\u001b[1mbase.py\u001b[0m:325)\n",
      "[\u001b[1mtardis.simulation.base\u001b[0m][\u001b[1;37mINFO\u001b[0m   ]  Luminosity emitted = 1.01329e+43 erg / s Luminosity absorbed = 2.37567e+43 erg / s Luminosity requested = 1.05928e+43 erg / s (\u001b[1mbase.py\u001b[0m:447)\n",
      "[\u001b[1mtardis.simulation.base\u001b[0m][\u001b[1;37mINFO\u001b[0m   ]  Simulation finished in 1 iterations and took 16.76 s (\u001b[1mbase.py\u001b[0m:380)\n",
      "[\u001b[1mpy.warnings         \u001b[0m][\u001b[1;33mWARNING\u001b[0m]  /home/epassaro/miniconda3/envs/tardis/lib/python3.6/site-packages/IPython/core/async_helpers.py:68: PerformanceWarning: indexing past lexsort depth may impact performance.\n",
      "  coro.send(None)\n",
      " (\u001b[1mwarnings.py\u001b[0m:99)\n",
      "[\u001b[1mtardis.io.atom_data.base\u001b[0m][\u001b[1;37mINFO\u001b[0m   ]  Read Atom Data with UUID=172c6890c2c911eabf65f8f21e712851 and MD5=046d7a383084ef472b9db7e8b9f09d46. (\u001b[1mbase.py\u001b[0m:187)\n",
      "[\u001b[1mtardis.io.atom_data.base\u001b[0m][\u001b[1;37mINFO\u001b[0m   ]  Non provided atomic data: collision_data, collision_data_temperatures, synpp_refs, photoionization_data (\u001b[1mbase.py\u001b[0m:193)\n",
      "[\u001b[1mpy.warnings         \u001b[0m][\u001b[1;33mWARNING\u001b[0m]  /home/epassaro/miniconda3/envs/tardis/lib/python3.6/site-packages/tardis_sn-3.0.dev3477-py3.6-linux-x86_64.egg/tardis/plasma/properties/atomic.py:229: FutureWarning: .labels was deprecated in version 0.24.0. Use .codes instead.\n",
      "  zeta_data[\"atomic_number\"] = zeta_data.index.labels[0] + 1\n",
      " (\u001b[1mwarnings.py\u001b[0m:99)\n",
      "[\u001b[1mpy.warnings         \u001b[0m][\u001b[1;33mWARNING\u001b[0m]  /home/epassaro/miniconda3/envs/tardis/lib/python3.6/site-packages/tardis_sn-3.0.dev3477-py3.6-linux-x86_64.egg/tardis/plasma/properties/atomic.py:230: FutureWarning: .labels was deprecated in version 0.24.0. Use .codes instead.\n",
      "  zeta_data[\"ion_number\"] = zeta_data.index.labels[1] + 1\n",
      " (\u001b[1mwarnings.py\u001b[0m:99)\n",
      "[\u001b[1mtardis.plasma.properties.atomic\u001b[0m][\u001b[1;33mWARNING\u001b[0m]  Zeta_data missing - replaced with 1s. Missing ions: [(14, 15), (16, 17), (20, 21), (26, 27), (27, 28), (28, 29)] (\u001b[1matomic.py\u001b[0m:251)\n",
      "[\u001b[1mpy.warnings         \u001b[0m][\u001b[1;33mWARNING\u001b[0m]  /home/epassaro/miniconda3/envs/tardis/lib/python3.6/site-packages/tardis_sn-3.0.dev3477-py3.6-linux-x86_64.egg/tardis/plasma/properties/atomic.py:229: FutureWarning: .labels was deprecated in version 0.24.0. Use .codes instead.\n",
      "  zeta_data[\"atomic_number\"] = zeta_data.index.labels[0] + 1\n",
      " (\u001b[1mwarnings.py\u001b[0m:99)\n",
      "[\u001b[1mpy.warnings         \u001b[0m][\u001b[1;33mWARNING\u001b[0m]  /home/epassaro/miniconda3/envs/tardis/lib/python3.6/site-packages/tardis_sn-3.0.dev3477-py3.6-linux-x86_64.egg/tardis/plasma/properties/atomic.py:230: FutureWarning: .labels was deprecated in version 0.24.0. Use .codes instead.\n",
      "  zeta_data[\"ion_number\"] = zeta_data.index.labels[1] + 1\n",
      " (\u001b[1mwarnings.py\u001b[0m:99)\n"
     ]
    },
    {
     "name": "stdout",
     "output_type": "stream",
     "text": [
      "[\u001b[1mtardis.plasma.properties.atomic\u001b[0m][\u001b[1;33mWARNING\u001b[0m]  Zeta_data missing - replaced with 1s. Missing ions: [(14, 15), (16, 17), (20, 21), (26, 27), (27, 28), (28, 29)] (\u001b[1matomic.py\u001b[0m:251)\n",
      "[\u001b[1mtardis.simulation.base\u001b[0m][\u001b[1;37mINFO\u001b[0m   ]  Starting iteration 1/1 (\u001b[1mbase.py\u001b[0m:325)\n",
      "[\u001b[1mtardis.simulation.base\u001b[0m][\u001b[1;37mINFO\u001b[0m   ]  Luminosity emitted = 1.00719e+43 erg / s Luminosity absorbed = 2.37857e+43 erg / s Luminosity requested = 1.05928e+43 erg / s (\u001b[1mbase.py\u001b[0m:447)\n",
      "[\u001b[1mtardis.simulation.base\u001b[0m][\u001b[1;37mINFO\u001b[0m   ]  Simulation finished in 1 iterations and took 13.69 s (\u001b[1mbase.py\u001b[0m:380)\n",
      "[\u001b[1mpy.warnings         \u001b[0m][\u001b[1;33mWARNING\u001b[0m]  /home/epassaro/miniconda3/envs/tardis/lib/python3.6/site-packages/IPython/core/async_helpers.py:68: PerformanceWarning: indexing past lexsort depth may impact performance.\n",
      "  coro.send(None)\n",
      " (\u001b[1mwarnings.py\u001b[0m:99)\n",
      "[\u001b[1mtardis.io.atom_data.base\u001b[0m][\u001b[1;37mINFO\u001b[0m   ]  Read Atom Data with UUID=637bb594c2c811ea98adf8f21e712851 and MD5=a88bafaaac6827e4239e0e967792babe. (\u001b[1mbase.py\u001b[0m:187)\n",
      "[\u001b[1mtardis.io.atom_data.base\u001b[0m][\u001b[1;37mINFO\u001b[0m   ]  Non provided atomic data: collision_data, collision_data_temperatures, synpp_refs, photoionization_data (\u001b[1mbase.py\u001b[0m:193)\n",
      "[\u001b[1mpy.warnings         \u001b[0m][\u001b[1;33mWARNING\u001b[0m]  /home/epassaro/miniconda3/envs/tardis/lib/python3.6/site-packages/tardis_sn-3.0.dev3477-py3.6-linux-x86_64.egg/tardis/plasma/properties/atomic.py:229: FutureWarning: .labels was deprecated in version 0.24.0. Use .codes instead.\n",
      "  zeta_data[\"atomic_number\"] = zeta_data.index.labels[0] + 1\n",
      " (\u001b[1mwarnings.py\u001b[0m:99)\n",
      "[\u001b[1mpy.warnings         \u001b[0m][\u001b[1;33mWARNING\u001b[0m]  /home/epassaro/miniconda3/envs/tardis/lib/python3.6/site-packages/tardis_sn-3.0.dev3477-py3.6-linux-x86_64.egg/tardis/plasma/properties/atomic.py:230: FutureWarning: .labels was deprecated in version 0.24.0. Use .codes instead.\n",
      "  zeta_data[\"ion_number\"] = zeta_data.index.labels[1] + 1\n",
      " (\u001b[1mwarnings.py\u001b[0m:99)\n",
      "[\u001b[1mtardis.plasma.properties.atomic\u001b[0m][\u001b[1;33mWARNING\u001b[0m]  Zeta_data missing - replaced with 1s. Missing ions: [(14, 15), (16, 17), (20, 21), (26, 27), (27, 28), (28, 29)] (\u001b[1matomic.py\u001b[0m:251)\n",
      "[\u001b[1mpy.warnings         \u001b[0m][\u001b[1;33mWARNING\u001b[0m]  /home/epassaro/miniconda3/envs/tardis/lib/python3.6/site-packages/tardis_sn-3.0.dev3477-py3.6-linux-x86_64.egg/tardis/plasma/properties/atomic.py:229: FutureWarning: .labels was deprecated in version 0.24.0. Use .codes instead.\n",
      "  zeta_data[\"atomic_number\"] = zeta_data.index.labels[0] + 1\n",
      " (\u001b[1mwarnings.py\u001b[0m:99)\n",
      "[\u001b[1mpy.warnings         \u001b[0m][\u001b[1;33mWARNING\u001b[0m]  /home/epassaro/miniconda3/envs/tardis/lib/python3.6/site-packages/tardis_sn-3.0.dev3477-py3.6-linux-x86_64.egg/tardis/plasma/properties/atomic.py:230: FutureWarning: .labels was deprecated in version 0.24.0. Use .codes instead.\n",
      "  zeta_data[\"ion_number\"] = zeta_data.index.labels[1] + 1\n",
      " (\u001b[1mwarnings.py\u001b[0m:99)\n",
      "[\u001b[1mtardis.plasma.properties.atomic\u001b[0m][\u001b[1;33mWARNING\u001b[0m]  Zeta_data missing - replaced with 1s. Missing ions: [(14, 15), (16, 17), (20, 21), (26, 27), (27, 28), (28, 29)] (\u001b[1matomic.py\u001b[0m:251)\n",
      "[\u001b[1mtardis.simulation.base\u001b[0m][\u001b[1;37mINFO\u001b[0m   ]  Starting iteration 1/1 (\u001b[1mbase.py\u001b[0m:325)\n",
      "[\u001b[1mtardis.simulation.base\u001b[0m][\u001b[1;37mINFO\u001b[0m   ]  Luminosity emitted = 1.00630e+43 erg / s Luminosity absorbed = 2.38093e+43 erg / s Luminosity requested = 1.05928e+43 erg / s (\u001b[1mbase.py\u001b[0m:447)\n",
      "[\u001b[1mtardis.simulation.base\u001b[0m][\u001b[1;37mINFO\u001b[0m   ]  Simulation finished in 1 iterations and took 14.84 s (\u001b[1mbase.py\u001b[0m:380)\n"
     ]
    }
   ],
   "source": [
    "fnames = [ fname for fname in os.listdir(ATOM_DATA_DIR) if fname.endswith('.h5') ]\n",
    "fnames = [ fname for fname in fnames if fname != 'kurucz_cd23_latest.h5' ]\n",
    "\n",
    "for fname in fnames:\n",
    "    tardis_config = Configuration.from_yaml(TARDIS_CONFIG)\n",
    "    tardis_config['montecarlo']['nthreads'] = NTHREADS\n",
    "    tardis_config['montecarlo']['iterations'] = 1\n",
    "    atom_data = AtomData.from_hdf(os.path.join(ATOM_DATA_DIR, fname))   \n",
    "    simulation = Simulation.from_config(tardis_config, atom_data=atom_data, \n",
    "                                        model=baseline_model)\n",
    "    simulation.run()\n",
    "    \n",
    "    # Check if opacity machine is working as expected\n",
    "    assert len(simulation.iterations_t_inner.value) == 1\n",
    "    assert baseline_simulation.iterations_t_inner.value[-1] == simulation.iterations_t_inner.value\n",
    "    assert (simulation.model.t_rad.value == baseline_simulation.model.t_rad.value).all()\n",
    "    assert (simulation.model.w == baseline_simulation.model.w).all()\n",
    "    \n",
    "    # Quick save\n",
    "    dump = os.path.join(SAVEPATH, '{}_{}.h5'.format(fname.strip('.h5'), EPOCH))\n",
    "    save(simulation, dump)"
   ]
  }
 ],
 "metadata": {
  "kernelspec": {
   "display_name": "tardis",
   "language": "python",
   "name": "tardis"
  },
  "language_info": {
   "codemirror_mode": {
    "name": "ipython",
    "version": 3
   },
   "file_extension": ".py",
   "mimetype": "text/x-python",
   "name": "python",
   "nbconvert_exporter": "python",
   "pygments_lexer": "ipython3",
   "version": "3.6.10"
  }
 },
 "nbformat": 4,
 "nbformat_minor": 4
}
